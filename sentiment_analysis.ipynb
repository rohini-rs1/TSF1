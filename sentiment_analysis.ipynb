{
  "nbformat": 4,
  "nbformat_minor": 0,
  "metadata": {
    "colab": {
      "name": "sentiment analysis.ipynb",
      "provenance": [],
      "collapsed_sections": [],
      "authorship_tag": "ABX9TyMDISUkVNx58izPAOd7NgQK",
      "include_colab_link": true
    },
    "kernelspec": {
      "name": "python3",
      "display_name": "Python 3"
    }
  },
  "cells": [
    {
      "cell_type": "markdown",
      "metadata": {
        "id": "view-in-github",
        "colab_type": "text"
      },
      "source": [
        "<a href=\"https://colab.research.google.com/github/rohini-rs1/TSF1/blob/master/sentiment_analysis.ipynb\" target=\"_parent\"><img src=\"https://colab.research.google.com/assets/colab-badge.svg\" alt=\"Open In Colab\"/></a>"
      ]
    },
    {
      "cell_type": "code",
      "metadata": {
        "id": "wnGQSuusH_cx",
        "colab_type": "code",
        "colab": {}
      },
      "source": [
        "from tweepy.streaming import StreamListener\n",
        "from tweepy import OAuthHandler\n",
        "from tweepy import Stream\n",
        "import datetime\n",
        "import csv\n",
        "import tweepy\n",
        "import numpy as np\n",
        "import pandas as pd\n",
        "\n",
        "\n",
        "consumer_key = 'uUtNj3h19KiTvsNJUMDGVPtZR'\n",
        "consumer_secret = '9OQPHzxL49qmipveLqMmBco3dyJK4IasjIeM1Efay6OvgIehZq'\n",
        "access_token = '1201035700499410944-wLJ7MIKlTWjSvDvhGOqYUFRzj5h2MX'\n",
        "access_token_secret = 'NRTbhxmkZHbzbayVIBv1i3vVdPVFbas8jnu5sxyKolU3l'"
      ],
      "execution_count": 1,
      "outputs": []
    },
    {
      "cell_type": "code",
      "metadata": {
        "id": "ADOvDsLfIKNM",
        "colab_type": "code",
        "colab": {}
      },
      "source": [
        "auth = tweepy.OAuthHandler(consumer_key, consumer_secret)\n",
        "auth.set_access_token(access_token, access_token_secret)\n",
        "api = tweepy.API(auth)"
      ],
      "execution_count": 2,
      "outputs": []
    },
    {
      "cell_type": "code",
      "metadata": {
        "id": "-9d-OS24IKPQ",
        "colab_type": "code",
        "colab": {
          "base_uri": "https://localhost:8080/",
          "height": 425
        },
        "outputId": "a23a5c3c-d6d3-4ccb-f39d-3e25f21d71ff"
      },
      "source": [
        "for tweet in api.search('AmazonIN'):\n",
        "    print(tweet.text)"
      ],
      "execution_count": 3,
      "outputs": [
        {
          "output_type": "stream",
          "text": [
            "RT @jin_dionysus: Hey @amazonIN  is there any chance of making @BTS_twt 's official albums available in india\n",
            "RT @jin_dionysus: Hey @amazonIN  is there any chance of making @BTS_twt 's official albums available in india\n",
            "@zingoy_cashback @Contestmumbai @Giveaway_Contst @Contest_in @amazonIN @Contest_Hub Please select fastest answers will be winners\n",
            "RT @jin_dionysus: Hey @amazonIN  is there any chance of making @BTS_twt 's official albums available in india\n",
            "@itsJustice4SSR @KanganaTeam @amazon @amazonIN @amazonmusic Really what did they do now i mean kuch bhi twitter hai… https://t.co/WhKBYVwHdd\n",
            "RT @jin_dionysus: Hey @amazonIN  is there any chance of making @BTS_twt 's official albums available in india\n",
            "@zingoy_cashback @Contestmumbai @Giveaway_Contst @Contest_in @amazonIN @Contest_Hub Ready \n",
            "Very exited\n",
            "RT @jin_dionysus: Hey @amazonIN  is there any chance of making @BTS_twt 's official albums available in india\n",
            "RT @jin_dionysus: Hey @amazonIN  is there any chance of making @BTS_twt 's official albums available in india\n",
            "RT @itsJustice4SSR: @ippatel Dear @amazonIN @alexa99 pls replace Amitabh wid Arnab for VOICE OF INDIA to be choose for AMAZON ALEXA\n",
            "\n",
            "We wan…\n",
            "@Swamy39 @pGurus1 Dear @amazon @amazonIN\n",
            "\n",
            "Hope u know HYPOCRISY of BACHCHANs\n",
            "\n",
            "Hadn't spoke anything on injustice ha… https://t.co/QEJd6wAmz8\n",
            "Hats off !!! Amazon . \n",
            "Order cancelled today 12 .. they share status to themselves only as if they are the customer… https://t.co/WErZQDSLUd\n",
            "RT @jin_dionysus: Hey @amazonIN  is there any chance of making @BTS_twt 's official albums available in india\n",
            "RT @sukhwanijayant: @amazonIN pathetic service \n",
            "This product had to be delivered on 16th Sept., but now status is that the delivery is dela…\n",
            "RT @jin_dionysus: Hey @amazonIN  is there any chance of making @BTS_twt 's official albums available in india\n"
          ],
          "name": "stdout"
        }
      ]
    },
    {
      "cell_type": "code",
      "metadata": {
        "id": "7Bp0GvsiJWHK",
        "colab_type": "code",
        "colab": {}
      },
      "source": [
        ""
      ],
      "execution_count": null,
      "outputs": []
    },
    {
      "cell_type": "code",
      "metadata": {
        "id": "5M6vMGAyIKSQ",
        "colab_type": "code",
        "colab": {}
      },
      "source": [
        "df = pd.DataFrame(columns = ['Tweets', 'User', 'User_statuses_count', \n",
        "                             'user_followers', 'User_location', 'rt_count', 'tweet_date'])"
      ],
      "execution_count": 4,
      "outputs": []
    },
    {
      "cell_type": "code",
      "metadata": {
        "id": "AISnZ5UBIKWE",
        "colab_type": "code",
        "colab": {}
      },
      "source": [
        "def stream(data, file_name):\n",
        "    i = 0\n",
        "    for tweet in tweepy.Cursor(api.search, q=data, count=100, lang='en').items():\n",
        "        print(i, end='\\r')\n",
        "        df.loc[i, 'Tweets'] = tweet.text\n",
        "        df.loc[i, 'User'] = tweet.user.name\n",
        "        df.loc[i, 'User_statuses_count'] = tweet.user.statuses_count\n",
        "        df.loc[i, 'user_followers'] = tweet.user.followers_count\n",
        "        df.loc[i, 'User_location'] = tweet.user.location\n",
        "        df.loc[i, 'rt_count'] = tweet.retweet_count\n",
        "        df.loc[i, 'tweet_date'] = tweet.created_at\n",
        "        df.to_excel('{}.xlsx'.format(file_name))\n",
        "        i+=1\n",
        "        if i == 2000:\n",
        "            break\n",
        "        else:\n",
        "            pass"
      ],
      "execution_count": 5,
      "outputs": []
    },
    {
      "cell_type": "code",
      "metadata": {
        "id": "crno66T3IKbq",
        "colab_type": "code",
        "colab": {
          "base_uri": "https://localhost:8080/",
          "height": 17
        },
        "outputId": "6c837c35-6939-47a8-ccb1-c6d6bfc28145"
      },
      "source": [
        "stream(data = ['AmazonIN'], file_name = 'AmazonIN')"
      ],
      "execution_count": null,
      "outputs": [
        {
          "output_type": "stream",
          "text": [
            ""
          ],
          "name": "stdout"
        }
      ]
    },
    {
      "cell_type": "code",
      "metadata": {
        "id": "Q2dKwQRsIKhO",
        "colab_type": "code",
        "colab": {}
      },
      "source": [
        "df.head()"
      ],
      "execution_count": null,
      "outputs": []
    },
    {
      "cell_type": "code",
      "metadata": {
        "id": "O1dr8ZOLIKsv",
        "colab_type": "code",
        "colab": {}
      },
      "source": [
        "from textblob import TextBlob\n",
        "from wordcloud import WordCloud, STOPWORDS\n",
        "import chart_studio.plotly as py\n",
        "import plotly.graph_objs as go\n",
        "from plotly.offline import iplot\n",
        "import cufflinks\n",
        "cufflinks.go_offline()\n",
        "cufflinks.set_config_file(world_readable=True, theme='pearl', offline=True)"
      ],
      "execution_count": null,
      "outputs": []
    },
    {
      "cell_type": "code",
      "metadata": {
        "id": "OM-QHSbdIKwR",
        "colab_type": "code",
        "colab": {}
      },
      "source": [
        "df.info()"
      ],
      "execution_count": null,
      "outputs": []
    },
    {
      "cell_type": "code",
      "metadata": {
        "id": "sCQxBwn6IKrc",
        "colab_type": "code",
        "colab": {}
      },
      "source": [
        "def clean_tweet(tweet):\n",
        "    return ' '.join(re.sub('(@[A-Za-z0-9]+)|([^0-9A-Za-z \\t])|(\\w+:\\/\\/\\S+)', ' ', tweet).split())"
      ],
      "execution_count": null,
      "outputs": []
    },
    {
      "cell_type": "code",
      "metadata": {
        "id": "OA8tWgHrIKmW",
        "colab_type": "code",
        "colab": {}
      },
      "source": [
        "def analyze_emotions(tweet):\n",
        "    analysis = TextBlob(tweet)\n",
        "    if analysis.sentiment.polarity <= -0.75:\n",
        "        return 'Anger'\n",
        "    elif analysis.sentiment.polarity <= -0.50:\n",
        "        return 'disgust'\n",
        "    elif analysis.sentiment.polarity <= -0.25:\n",
        "        return 'Anticipation'\n",
        "    elif analysis.sentiment.polarity <= -0.01:\n",
        "        return 'fear'\n",
        "    elif analysis.sentiment.polarity == 0:\n",
        "        return 'joy'\n",
        "    elif analysis.sentiment.polarity <= 0.25:\n",
        "        return 'sadness'\n",
        "    elif analysis.sentiment.polarity <= 0.50:\n",
        "        return 'surprise'\n",
        "    elif analysis.sentiment.polarity <= 0.75:\n",
        "        return 'trust'\n",
        "    else:\n",
        "        return 'All Good'"
      ],
      "execution_count": null,
      "outputs": []
    },
    {
      "cell_type": "code",
      "metadata": {
        "id": "Z2E4mzWeIKk7",
        "colab_type": "code",
        "colab": {}
      },
      "source": [
        "def analyze_sentiment(tweet):\n",
        "    analysis = TextBlob(tweet)\n",
        "    if analysis.sentiment.polarity > 0:\n",
        "        return 'Positive'\n",
        "    elif analysis.sentiment.polarity < 0:\n",
        "        return 'Negative'\n",
        "    else:\n",
        "        return 'Neutral' "
      ],
      "execution_count": null,
      "outputs": []
    },
    {
      "cell_type": "code",
      "metadata": {
        "id": "yV8FqxAOIKe1",
        "colab_type": "code",
        "colab": {}
      },
      "source": [
        "import re\n",
        "df['clean_tweet'] = df['Tweets'].apply(lambda x: clean_tweet(x))\n",
        "df['Sentiment']=df['clean_tweet'].apply(lambda x: analyze_sentiment(x))\n",
        "df['Emotions'] = df['clean_tweet'].apply(lambda x: analyze_emotions(x))\n",
        "df['sentimentpolarity'] = df.clean_tweet.apply(lambda x: TextBlob(str(x)).sentiment.polarity)"
      ],
      "execution_count": null,
      "outputs": []
    },
    {
      "cell_type": "code",
      "metadata": {
        "id": "e-sXxmpSI184",
        "colab_type": "code",
        "colab": {}
      },
      "source": [
        "df"
      ],
      "execution_count": null,
      "outputs": []
    },
    {
      "cell_type": "code",
      "metadata": {
        "id": "T-XLaPDSI1_N",
        "colab_type": "code",
        "colab": {}
      },
      "source": [
        "df.drop_duplicates(subset='clean_tweet',inplace=True)"
      ],
      "execution_count": null,
      "outputs": []
    },
    {
      "cell_type": "code",
      "metadata": {
        "id": "N1SCSdNuI2E6",
        "colab_type": "code",
        "colab": {}
      },
      "source": [
        "df"
      ],
      "execution_count": null,
      "outputs": []
    },
    {
      "cell_type": "code",
      "metadata": {
        "id": "pW8Icj09I2Nw",
        "colab_type": "code",
        "colab": {}
      },
      "source": [
        "df['Sentiment'].value_counts().iplot(kind='bar', xTitle='Emotions',\n",
        "                                    yTitle='Count', title='Overall Sentiment Distribution')"
      ],
      "execution_count": null,
      "outputs": []
    },
    {
      "cell_type": "code",
      "metadata": {
        "id": "vZmhnLt4I2Rm",
        "colab_type": "code",
        "colab": {}
      },
      "source": [
        "df['Emotions'].value_counts().iplot(kind='bar', xTitle='Emotions',\n",
        "                                    yTitle='Count', title='Emotionswise Sentiment Distribution')"
      ],
      "execution_count": null,
      "outputs": []
    },
    {
      "cell_type": "code",
      "metadata": {
        "id": "4Vpq2QTTI2ML",
        "colab_type": "code",
        "colab": {}
      },
      "source": [
        "all_tweets = ' '.join(tweet for tweet in df['Emotions'])\n",
        "\n",
        "\n",
        "wordcloud = WordCloud(stopwords=STOPWORDS).generate(all_tweets)"
      ],
      "execution_count": null,
      "outputs": []
    },
    {
      "cell_type": "code",
      "metadata": {
        "id": "GyrViZzmI2Kk",
        "colab_type": "code",
        "colab": {}
      },
      "source": [
        "df_freq = pd.DataFrame.from_dict(data = wordcloud.words_, orient='index')\n",
        "df_freq = df_freq.head(20)\n",
        "df_freq.plot.bar()"
      ],
      "execution_count": null,
      "outputs": []
    },
    {
      "cell_type": "code",
      "metadata": {
        "id": "wKwvSZuZI2C6",
        "colab_type": "code",
        "colab": {}
      },
      "source": [
        ""
      ],
      "execution_count": null,
      "outputs": []
    },
    {
      "cell_type": "code",
      "metadata": {
        "id": "CrVxZBepIKZS",
        "colab_type": "code",
        "colab": {}
      },
      "source": [
        ""
      ],
      "execution_count": null,
      "outputs": []
    }
  ]
}